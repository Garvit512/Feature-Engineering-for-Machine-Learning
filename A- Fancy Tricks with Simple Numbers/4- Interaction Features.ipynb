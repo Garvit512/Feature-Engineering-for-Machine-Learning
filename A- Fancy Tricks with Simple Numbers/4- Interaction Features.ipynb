{
 "cells": [
  {
   "cell_type": "markdown",
   "metadata": {},
   "source": [
    "A simple pairwise interaction feature is the product of two features."
   ]
  },
  {
   "cell_type": "code",
   "execution_count": 4,
   "metadata": {
    "ExecuteTime": {
     "end_time": "2020-09-22T18:52:19.351411Z",
     "start_time": "2020-09-22T18:52:18.730281Z"
    }
   },
   "outputs": [],
   "source": [
    "import pandas as pd\n",
    "from sklearn import linear_model\n",
    "from sklearn.model_selection import train_test_split\n",
    "import sklearn.preprocessing as preproc"
   ]
  },
  {
   "cell_type": "code",
   "execution_count": 3,
   "metadata": {
    "ExecuteTime": {
     "end_time": "2020-09-22T18:50:08.889958Z",
     "start_time": "2020-09-22T18:50:07.203377Z"
    }
   },
   "outputs": [
    {
     "name": "stderr",
     "output_type": "stream",
     "text": [
      "/home/garvit/anaconda3/lib/python3.7/site-packages/ipykernel_launcher.py:3: ParserWarning: Falling back to the 'python' engine because the 'c' engine does not support regex separators (separators > 1 char and different from '\\s+' are interpreted as regex); you can avoid this warning by specifying engine='python'.\n",
      "  This is separate from the ipykernel package so we can avoid doing imports until\n"
     ]
    }
   ],
   "source": [
    "# Load the Online News Popularity dataset\n",
    "\n",
    "df = pd.read_csv('/home/garvit/Downloads/OnlineNewsPopularity/OnlineNewsPopularity.csv', delimiter=', ')"
   ]
  },
  {
   "cell_type": "code",
   "execution_count": 6,
   "metadata": {
    "ExecuteTime": {
     "end_time": "2020-09-22T19:02:33.246090Z",
     "start_time": "2020-09-22T19:02:33.216226Z"
    }
   },
   "outputs": [
    {
     "data": {
      "text/html": [
       "<div>\n",
       "<style scoped>\n",
       "    .dataframe tbody tr th:only-of-type {\n",
       "        vertical-align: middle;\n",
       "    }\n",
       "\n",
       "    .dataframe tbody tr th {\n",
       "        vertical-align: top;\n",
       "    }\n",
       "\n",
       "    .dataframe thead th {\n",
       "        text-align: right;\n",
       "    }\n",
       "</style>\n",
       "<table border=\"1\" class=\"dataframe\">\n",
       "  <thead>\n",
       "    <tr style=\"text-align: right;\">\n",
       "      <th></th>\n",
       "      <th>url</th>\n",
       "      <th>timedelta</th>\n",
       "      <th>n_tokens_title</th>\n",
       "      <th>n_tokens_content</th>\n",
       "      <th>n_unique_tokens</th>\n",
       "      <th>n_non_stop_words</th>\n",
       "      <th>n_non_stop_unique_tokens</th>\n",
       "      <th>num_hrefs</th>\n",
       "      <th>num_self_hrefs</th>\n",
       "      <th>num_imgs</th>\n",
       "      <th>...</th>\n",
       "      <th>min_positive_polarity</th>\n",
       "      <th>max_positive_polarity</th>\n",
       "      <th>avg_negative_polarity</th>\n",
       "      <th>min_negative_polarity</th>\n",
       "      <th>max_negative_polarity</th>\n",
       "      <th>title_subjectivity</th>\n",
       "      <th>title_sentiment_polarity</th>\n",
       "      <th>abs_title_subjectivity</th>\n",
       "      <th>abs_title_sentiment_polarity</th>\n",
       "      <th>shares</th>\n",
       "    </tr>\n",
       "  </thead>\n",
       "  <tbody>\n",
       "    <tr>\n",
       "      <th>16912</th>\n",
       "      <td>http://mashable.com/2013/12/02/turntable-shuts...</td>\n",
       "      <td>402.0</td>\n",
       "      <td>9.0</td>\n",
       "      <td>958.0</td>\n",
       "      <td>0.511135</td>\n",
       "      <td>1.0</td>\n",
       "      <td>0.705085</td>\n",
       "      <td>12.0</td>\n",
       "      <td>4.0</td>\n",
       "      <td>1.0</td>\n",
       "      <td>...</td>\n",
       "      <td>0.062500</td>\n",
       "      <td>1.000000</td>\n",
       "      <td>-0.513542</td>\n",
       "      <td>-1.000000</td>\n",
       "      <td>-0.100000</td>\n",
       "      <td>0.500000</td>\n",
       "      <td>0.500000</td>\n",
       "      <td>0.000000</td>\n",
       "      <td>0.500000</td>\n",
       "      <td>909</td>\n",
       "    </tr>\n",
       "    <tr>\n",
       "      <th>28263</th>\n",
       "      <td>http://mashable.com/2014/07/03/lisa-simpson-fo...</td>\n",
       "      <td>189.0</td>\n",
       "      <td>6.0</td>\n",
       "      <td>49.0</td>\n",
       "      <td>0.916667</td>\n",
       "      <td>1.0</td>\n",
       "      <td>0.964286</td>\n",
       "      <td>1.0</td>\n",
       "      <td>1.0</td>\n",
       "      <td>0.0</td>\n",
       "      <td>...</td>\n",
       "      <td>0.333333</td>\n",
       "      <td>0.333333</td>\n",
       "      <td>0.000000</td>\n",
       "      <td>0.000000</td>\n",
       "      <td>0.000000</td>\n",
       "      <td>0.500000</td>\n",
       "      <td>0.500000</td>\n",
       "      <td>0.000000</td>\n",
       "      <td>0.500000</td>\n",
       "      <td>932</td>\n",
       "    </tr>\n",
       "    <tr>\n",
       "      <th>34825</th>\n",
       "      <td>http://mashable.com/2014/10/15/the-superhero-m...</td>\n",
       "      <td>84.0</td>\n",
       "      <td>11.0</td>\n",
       "      <td>518.0</td>\n",
       "      <td>0.500000</td>\n",
       "      <td>1.0</td>\n",
       "      <td>0.703008</td>\n",
       "      <td>9.0</td>\n",
       "      <td>0.0</td>\n",
       "      <td>1.0</td>\n",
       "      <td>...</td>\n",
       "      <td>0.100000</td>\n",
       "      <td>0.800000</td>\n",
       "      <td>-0.386310</td>\n",
       "      <td>-1.000000</td>\n",
       "      <td>-0.125000</td>\n",
       "      <td>0.288889</td>\n",
       "      <td>-0.155556</td>\n",
       "      <td>0.211111</td>\n",
       "      <td>0.155556</td>\n",
       "      <td>684</td>\n",
       "    </tr>\n",
       "    <tr>\n",
       "      <th>30039</th>\n",
       "      <td>http://mashable.com/2014/07/31/southwest-seawo...</td>\n",
       "      <td>160.0</td>\n",
       "      <td>7.0</td>\n",
       "      <td>212.0</td>\n",
       "      <td>0.706161</td>\n",
       "      <td>1.0</td>\n",
       "      <td>0.872000</td>\n",
       "      <td>8.0</td>\n",
       "      <td>4.0</td>\n",
       "      <td>0.0</td>\n",
       "      <td>...</td>\n",
       "      <td>0.160000</td>\n",
       "      <td>1.000000</td>\n",
       "      <td>-0.202778</td>\n",
       "      <td>-0.250000</td>\n",
       "      <td>-0.155556</td>\n",
       "      <td>0.642857</td>\n",
       "      <td>0.214286</td>\n",
       "      <td>0.142857</td>\n",
       "      <td>0.214286</td>\n",
       "      <td>2700</td>\n",
       "    </tr>\n",
       "    <tr>\n",
       "      <th>33077</th>\n",
       "      <td>http://mashable.com/2014/09/19/climate-change-...</td>\n",
       "      <td>111.0</td>\n",
       "      <td>12.0</td>\n",
       "      <td>298.0</td>\n",
       "      <td>0.602076</td>\n",
       "      <td>1.0</td>\n",
       "      <td>0.725389</td>\n",
       "      <td>15.0</td>\n",
       "      <td>2.0</td>\n",
       "      <td>1.0</td>\n",
       "      <td>...</td>\n",
       "      <td>0.136364</td>\n",
       "      <td>0.750000</td>\n",
       "      <td>-0.186111</td>\n",
       "      <td>-0.333333</td>\n",
       "      <td>-0.100000</td>\n",
       "      <td>0.000000</td>\n",
       "      <td>0.000000</td>\n",
       "      <td>0.500000</td>\n",
       "      <td>0.000000</td>\n",
       "      <td>776</td>\n",
       "    </tr>\n",
       "  </tbody>\n",
       "</table>\n",
       "<p>5 rows × 61 columns</p>\n",
       "</div>"
      ],
      "text/plain": [
       "                                                     url  timedelta  \\\n",
       "16912  http://mashable.com/2013/12/02/turntable-shuts...      402.0   \n",
       "28263  http://mashable.com/2014/07/03/lisa-simpson-fo...      189.0   \n",
       "34825  http://mashable.com/2014/10/15/the-superhero-m...       84.0   \n",
       "30039  http://mashable.com/2014/07/31/southwest-seawo...      160.0   \n",
       "33077  http://mashable.com/2014/09/19/climate-change-...      111.0   \n",
       "\n",
       "       n_tokens_title  n_tokens_content  n_unique_tokens  n_non_stop_words  \\\n",
       "16912             9.0             958.0         0.511135               1.0   \n",
       "28263             6.0              49.0         0.916667               1.0   \n",
       "34825            11.0             518.0         0.500000               1.0   \n",
       "30039             7.0             212.0         0.706161               1.0   \n",
       "33077            12.0             298.0         0.602076               1.0   \n",
       "\n",
       "       n_non_stop_unique_tokens  num_hrefs  num_self_hrefs  num_imgs  ...  \\\n",
       "16912                  0.705085       12.0             4.0       1.0  ...   \n",
       "28263                  0.964286        1.0             1.0       0.0  ...   \n",
       "34825                  0.703008        9.0             0.0       1.0  ...   \n",
       "30039                  0.872000        8.0             4.0       0.0  ...   \n",
       "33077                  0.725389       15.0             2.0       1.0  ...   \n",
       "\n",
       "       min_positive_polarity  max_positive_polarity  avg_negative_polarity  \\\n",
       "16912               0.062500               1.000000              -0.513542   \n",
       "28263               0.333333               0.333333               0.000000   \n",
       "34825               0.100000               0.800000              -0.386310   \n",
       "30039               0.160000               1.000000              -0.202778   \n",
       "33077               0.136364               0.750000              -0.186111   \n",
       "\n",
       "       min_negative_polarity  max_negative_polarity  title_subjectivity  \\\n",
       "16912              -1.000000              -0.100000            0.500000   \n",
       "28263               0.000000               0.000000            0.500000   \n",
       "34825              -1.000000              -0.125000            0.288889   \n",
       "30039              -0.250000              -0.155556            0.642857   \n",
       "33077              -0.333333              -0.100000            0.000000   \n",
       "\n",
       "       title_sentiment_polarity  abs_title_subjectivity  \\\n",
       "16912                  0.500000                0.000000   \n",
       "28263                  0.500000                0.000000   \n",
       "34825                 -0.155556                0.211111   \n",
       "30039                  0.214286                0.142857   \n",
       "33077                  0.000000                0.500000   \n",
       "\n",
       "       abs_title_sentiment_polarity  shares  \n",
       "16912                      0.500000     909  \n",
       "28263                      0.500000     932  \n",
       "34825                      0.155556     684  \n",
       "30039                      0.214286    2700  \n",
       "33077                      0.000000     776  \n",
       "\n",
       "[5 rows x 61 columns]"
      ]
     },
     "execution_count": 6,
     "metadata": {},
     "output_type": "execute_result"
    }
   ],
   "source": [
    "df.sample(5)"
   ]
  },
  {
   "cell_type": "code",
   "execution_count": 5,
   "metadata": {
    "ExecuteTime": {
     "end_time": "2020-09-22T18:56:24.864184Z",
     "start_time": "2020-09-22T18:56:24.854547Z"
    }
   },
   "outputs": [
    {
     "data": {
      "text/plain": [
       "Index(['url', 'timedelta', 'n_tokens_title', 'n_tokens_content',\n",
       "       'n_unique_tokens', 'n_non_stop_words', 'n_non_stop_unique_tokens',\n",
       "       'num_hrefs', 'num_self_hrefs', 'num_imgs', 'num_videos',\n",
       "       'average_token_length', 'num_keywords', 'data_channel_is_lifestyle',\n",
       "       'data_channel_is_entertainment', 'data_channel_is_bus',\n",
       "       'data_channel_is_socmed', 'data_channel_is_tech',\n",
       "       'data_channel_is_world', 'kw_min_min', 'kw_max_min', 'kw_avg_min',\n",
       "       'kw_min_max', 'kw_max_max', 'kw_avg_max', 'kw_min_avg', 'kw_max_avg',\n",
       "       'kw_avg_avg', 'self_reference_min_shares', 'self_reference_max_shares',\n",
       "       'self_reference_avg_sharess', 'weekday_is_monday', 'weekday_is_tuesday',\n",
       "       'weekday_is_wednesday', 'weekday_is_thursday', 'weekday_is_friday',\n",
       "       'weekday_is_saturday', 'weekday_is_sunday', 'is_weekend', 'LDA_00',\n",
       "       'LDA_01', 'LDA_02', 'LDA_03', 'LDA_04', 'global_subjectivity',\n",
       "       'global_sentiment_polarity', 'global_rate_positive_words',\n",
       "       'global_rate_negative_words', 'rate_positive_words',\n",
       "       'rate_negative_words', 'avg_positive_polarity', 'min_positive_polarity',\n",
       "       'max_positive_polarity', 'avg_negative_polarity',\n",
       "       'min_negative_polarity', 'max_negative_polarity', 'title_subjectivity',\n",
       "       'title_sentiment_polarity', 'abs_title_subjectivity',\n",
       "       'abs_title_sentiment_polarity', 'shares'],\n",
       "      dtype='object')"
      ]
     },
     "execution_count": 5,
     "metadata": {},
     "output_type": "execute_result"
    }
   ],
   "source": [
    "# Assume df is a Pandas DataFrame containing the UCI Online News Popularity dataset\n",
    "df.columns"
   ]
  },
  {
   "cell_type": "code",
   "execution_count": 8,
   "metadata": {
    "ExecuteTime": {
     "end_time": "2020-09-22T19:09:34.399300Z",
     "start_time": "2020-09-22T19:09:34.392342Z"
    }
   },
   "outputs": [],
   "source": [
    "# Select the content-based features as singleton features in the model,\n",
    "# skipping over the derived features\n",
    "\n",
    "features =  ['n_tokens_title', 'n_tokens_content',\n",
    "             'n_unique_tokens', 'n_non_stop_words', 'n_non_stop_unique_tokens',\n",
    "             'num_hrefs', 'num_self_hrefs', 'num_imgs', 'num_videos',\n",
    "             'average_token_length', 'num_keywords', 'data_channel_is_lifestyle',\n",
    "             'data_channel_is_entertainment', 'data_channel_is_bus',\n",
    "             'data_channel_is_socmed', 'data_channel_is_tech',\n",
    "             'data_channel_is_world']\n",
    "\n",
    "\n",
    "x = df[features]\n",
    "y = df[['shares']]"
   ]
  },
  {
   "cell_type": "code",
   "execution_count": 9,
   "metadata": {
    "ExecuteTime": {
     "end_time": "2020-09-22T19:09:36.455283Z",
     "start_time": "2020-09-22T19:09:36.397807Z"
    }
   },
   "outputs": [
    {
     "data": {
      "text/plain": [
       "(39644, 170)"
      ]
     },
     "execution_count": 9,
     "metadata": {},
     "output_type": "execute_result"
    }
   ],
   "source": [
    "# Create pairwise interaction features, skipping the constant bias term\n",
    "\n",
    "x2 = preproc.PolynomialFeatures(include_bias=False)\n",
    "x2 = x2.fit_transform(x)\n",
    "x2.shape"
   ]
  },
  {
   "cell_type": "code",
   "execution_count": 11,
   "metadata": {
    "ExecuteTime": {
     "end_time": "2020-09-22T19:37:43.126597Z",
     "start_time": "2020-09-22T19:37:43.098807Z"
    }
   },
   "outputs": [],
   "source": [
    "# Create train/test sets for both feature sets\n",
    "\n",
    "x1_train, x1_test, x2_train, x2_test, y_train, y_test =  train_test_split(x, x2, y, test_size=0.3, \n",
    "                                                                          random_state=123)\n"
   ]
  },
  {
   "cell_type": "code",
   "execution_count": 12,
   "metadata": {
    "ExecuteTime": {
     "end_time": "2020-09-22T20:19:17.213959Z",
     "start_time": "2020-09-22T20:19:16.374065Z"
    }
   },
   "outputs": [
    {
     "name": "stdout",
     "output_type": "stream",
     "text": [
      "R-squared score with singleton features: 0.00924\n",
      "R-squared score with singleton features: 0.01133\n"
     ]
    }
   ],
   "source": [
    "def evaluate_feature(x_train, x_test, y_train, y_test):    \n",
    "    \"\"\"Fit a linear regression model on the training set andscore on the test set\"\"\"\n",
    "    model = linear_model.LinearRegression()\n",
    "    model.fit(x_train, y_train)\n",
    "    r_score = model.score(x_test, y_test)\n",
    "    return (model, r_score)\n",
    "\n",
    "# Train models and compare score on the two feature sets\n",
    "(m1, r1) = evaluate_feature(x1_train, x1_test, y_train, y_test)\n",
    "(m2, r2) = evaluate_feature(x2_train, x2_test, y_train, y_test)\n",
    "print(\"R-squared score with singleton features: %0.5f\" % r1)\n",
    "print(\"R-squared score with singleton features: %0.5f\" % r2)"
   ]
  }
 ],
 "metadata": {
  "kernelspec": {
   "display_name": "Python 3",
   "language": "python",
   "name": "python3"
  },
  "language_info": {
   "codemirror_mode": {
    "name": "ipython",
    "version": 3
   },
   "file_extension": ".py",
   "mimetype": "text/x-python",
   "name": "python",
   "nbconvert_exporter": "python",
   "pygments_lexer": "ipython3",
   "version": "3.7.4"
  }
 },
 "nbformat": 4,
 "nbformat_minor": 4
}
