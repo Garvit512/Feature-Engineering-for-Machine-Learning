{
 "cells": [
  {
   "cell_type": "markdown",
   "metadata": {},
   "source": [
    "### 1- Min-Max Scaling"
   ]
  },
  {
   "cell_type": "markdown",
   "metadata": {},
   "source": [
    "<img src=https://media.geeksforgeeks.org/wp-content/uploads/min-max-normalisation.jpg alt=\"Drawing\" style=\"width: 200px;\"/>"
   ]
  },
  {
   "cell_type": "markdown",
   "metadata": {},
   "source": [
    "### 2- Standardization (Variance Scaling)\n"
   ]
  },
  {
   "attachments": {
    "image.png": {
     "image/png": "[encoded data removed]"
    }
   },
   "cell_type": "markdown",
   "metadata": {},
   "source": [
    "![image.png](attachment:image.png)"
   ]
  },
  {
   "cell_type": "markdown",
   "metadata": {},
   "source": [
    "### 3- L2 Normalization\n"
   ]
  },
  {
   "cell_type": "markdown",
   "metadata": {},
   "source": [
    "This technique normalizes (divides) the original feature value by what’s known as the\n",
    "l2 norm, also known as the Euclidean norm."
   ]
  },
  {
   "cell_type": "markdown",
   "metadata": {},
   "source": [
    "<img src=https://i.stack.imgur.com/wWpG2.png alt=\"Drawing\" style=\"width: 300px;\"/>"
   ]
  },
  {
   "cell_type": "code",
   "execution_count": 63,
   "metadata": {
    "ExecuteTime": {
     "end_time": "2020-09-22T16:33:08.035524Z",
     "start_time": "2020-09-22T16:33:08.028029Z"
    }
   },
   "outputs": [],
   "source": [
    "import pandas as pd\n",
    "from sklearn.preprocessing import MinMaxScaler, StandardScaler, Normalizer, normalize"
   ]
  },
  {
   "cell_type": "code",
   "execution_count": 8,
   "metadata": {
    "ExecuteTime": {
     "end_time": "2020-09-22T15:15:10.285793Z",
     "start_time": "2020-09-22T15:15:08.651023Z"
    }
   },
   "outputs": [
    {
     "name": "stderr",
     "output_type": "stream",
     "text": [
      "/home/garvit/anaconda3/lib/python3.7/site-packages/ipykernel_launcher.py:3: ParserWarning: Falling back to the 'python' engine because the 'c' engine does not support regex separators (separators > 1 char and different from '\\s+' are interpreted as regex); you can avoid this warning by specifying engine='python'.\n",
      "  This is separate from the ipykernel package so we can avoid doing imports until\n"
     ]
    }
   ],
   "source": [
    "# Load the Online News Popularity dataset\n",
    "\n",
    "df = pd.read_csv('/home/garvit/Downloads/OnlineNewsPopularity/OnlineNewsPopularity.csv', delimiter=', ')"
   ]
  },
  {
   "cell_type": "code",
   "execution_count": 9,
   "metadata": {
    "ExecuteTime": {
     "end_time": "2020-09-22T15:24:08.683085Z",
     "start_time": "2020-09-22T15:24:08.536800Z"
    }
   },
   "outputs": [
    {
     "data": {
      "text/html": [
       "<div>\n",
       "<style scoped>\n",
       "    .dataframe tbody tr th:only-of-type {\n",
       "        vertical-align: middle;\n",
       "    }\n",
       "\n",
       "    .dataframe tbody tr th {\n",
       "        vertical-align: top;\n",
       "    }\n",
       "\n",
       "    .dataframe thead th {\n",
       "        text-align: right;\n",
       "    }\n",
       "</style>\n",
       "<table border=\"1\" class=\"dataframe\">\n",
       "  <thead>\n",
       "    <tr style=\"text-align: right;\">\n",
       "      <th></th>\n",
       "      <th>url</th>\n",
       "      <th>timedelta</th>\n",
       "      <th>n_tokens_title</th>\n",
       "      <th>n_tokens_content</th>\n",
       "      <th>n_unique_tokens</th>\n",
       "      <th>n_non_stop_words</th>\n",
       "      <th>n_non_stop_unique_tokens</th>\n",
       "      <th>num_hrefs</th>\n",
       "      <th>num_self_hrefs</th>\n",
       "      <th>num_imgs</th>\n",
       "      <th>...</th>\n",
       "      <th>min_positive_polarity</th>\n",
       "      <th>max_positive_polarity</th>\n",
       "      <th>avg_negative_polarity</th>\n",
       "      <th>min_negative_polarity</th>\n",
       "      <th>max_negative_polarity</th>\n",
       "      <th>title_subjectivity</th>\n",
       "      <th>title_sentiment_polarity</th>\n",
       "      <th>abs_title_subjectivity</th>\n",
       "      <th>abs_title_sentiment_polarity</th>\n",
       "      <th>shares</th>\n",
       "    </tr>\n",
       "  </thead>\n",
       "  <tbody>\n",
       "    <tr>\n",
       "      <th>25609</th>\n",
       "      <td>http://mashable.com/2014/05/21/oculus-vr-sued-...</td>\n",
       "      <td>232.0</td>\n",
       "      <td>12.0</td>\n",
       "      <td>365.0</td>\n",
       "      <td>0.467033</td>\n",
       "      <td>1.0</td>\n",
       "      <td>0.587963</td>\n",
       "      <td>9.0</td>\n",
       "      <td>1.0</td>\n",
       "      <td>1.0</td>\n",
       "      <td>...</td>\n",
       "      <td>0.100000</td>\n",
       "      <td>0.7</td>\n",
       "      <td>-0.271759</td>\n",
       "      <td>-0.60</td>\n",
       "      <td>-0.125000</td>\n",
       "      <td>0.000000</td>\n",
       "      <td>0.000000</td>\n",
       "      <td>0.500000</td>\n",
       "      <td>0.000000</td>\n",
       "      <td>1700</td>\n",
       "    </tr>\n",
       "    <tr>\n",
       "      <th>12216</th>\n",
       "      <td>http://mashable.com/2013/08/28/nexus-7-europe/</td>\n",
       "      <td>498.0</td>\n",
       "      <td>11.0</td>\n",
       "      <td>335.0</td>\n",
       "      <td>0.588050</td>\n",
       "      <td>1.0</td>\n",
       "      <td>0.653333</td>\n",
       "      <td>18.0</td>\n",
       "      <td>3.0</td>\n",
       "      <td>1.0</td>\n",
       "      <td>...</td>\n",
       "      <td>0.136364</td>\n",
       "      <td>0.6</td>\n",
       "      <td>0.000000</td>\n",
       "      <td>0.00</td>\n",
       "      <td>0.000000</td>\n",
       "      <td>0.000000</td>\n",
       "      <td>0.000000</td>\n",
       "      <td>0.500000</td>\n",
       "      <td>0.000000</td>\n",
       "      <td>1200</td>\n",
       "    </tr>\n",
       "    <tr>\n",
       "      <th>23279</th>\n",
       "      <td>http://mashable.com/2014/04/09/umass-derrick-g...</td>\n",
       "      <td>273.0</td>\n",
       "      <td>8.0</td>\n",
       "      <td>380.0</td>\n",
       "      <td>0.520548</td>\n",
       "      <td>1.0</td>\n",
       "      <td>0.627049</td>\n",
       "      <td>12.0</td>\n",
       "      <td>0.0</td>\n",
       "      <td>1.0</td>\n",
       "      <td>...</td>\n",
       "      <td>0.033333</td>\n",
       "      <td>1.0</td>\n",
       "      <td>-0.250000</td>\n",
       "      <td>-0.25</td>\n",
       "      <td>-0.250000</td>\n",
       "      <td>0.250000</td>\n",
       "      <td>0.250000</td>\n",
       "      <td>0.250000</td>\n",
       "      <td>0.250000</td>\n",
       "      <td>1000</td>\n",
       "    </tr>\n",
       "    <tr>\n",
       "      <th>751</th>\n",
       "      <td>http://mashable.com/2013/01/21/bette-midler-tw...</td>\n",
       "      <td>717.0</td>\n",
       "      <td>8.0</td>\n",
       "      <td>400.0</td>\n",
       "      <td>0.509695</td>\n",
       "      <td>1.0</td>\n",
       "      <td>0.537037</td>\n",
       "      <td>19.0</td>\n",
       "      <td>2.0</td>\n",
       "      <td>10.0</td>\n",
       "      <td>...</td>\n",
       "      <td>0.200000</td>\n",
       "      <td>0.6</td>\n",
       "      <td>-0.289352</td>\n",
       "      <td>-0.40</td>\n",
       "      <td>-0.155556</td>\n",
       "      <td>0.500000</td>\n",
       "      <td>0.136364</td>\n",
       "      <td>0.000000</td>\n",
       "      <td>0.136364</td>\n",
       "      <td>423</td>\n",
       "    </tr>\n",
       "    <tr>\n",
       "      <th>37414</th>\n",
       "      <td>http://mashable.com/2014/11/20/worlds-tallest-...</td>\n",
       "      <td>47.0</td>\n",
       "      <td>11.0</td>\n",
       "      <td>789.0</td>\n",
       "      <td>0.510940</td>\n",
       "      <td>1.0</td>\n",
       "      <td>0.696281</td>\n",
       "      <td>30.0</td>\n",
       "      <td>12.0</td>\n",
       "      <td>11.0</td>\n",
       "      <td>...</td>\n",
       "      <td>0.033333</td>\n",
       "      <td>1.0</td>\n",
       "      <td>-0.310648</td>\n",
       "      <td>-0.80</td>\n",
       "      <td>-0.033333</td>\n",
       "      <td>0.454545</td>\n",
       "      <td>0.136364</td>\n",
       "      <td>0.045455</td>\n",
       "      <td>0.136364</td>\n",
       "      <td>1500</td>\n",
       "    </tr>\n",
       "  </tbody>\n",
       "</table>\n",
       "<p>5 rows × 61 columns</p>\n",
       "</div>"
      ],
      "text/plain": [
       "                                                     url  timedelta  \\\n",
       "25609  http://mashable.com/2014/05/21/oculus-vr-sued-...      232.0   \n",
       "12216     http://mashable.com/2013/08/28/nexus-7-europe/      498.0   \n",
       "23279  http://mashable.com/2014/04/09/umass-derrick-g...      273.0   \n",
       "751    http://mashable.com/2013/01/21/bette-midler-tw...      717.0   \n",
       "37414  http://mashable.com/2014/11/20/worlds-tallest-...       47.0   \n",
       "\n",
       "       n_tokens_title  n_tokens_content  n_unique_tokens  n_non_stop_words  \\\n",
       "25609            12.0             365.0         0.467033               1.0   \n",
       "12216            11.0             335.0         0.588050               1.0   \n",
       "23279             8.0             380.0         0.520548               1.0   \n",
       "751               8.0             400.0         0.509695               1.0   \n",
       "37414            11.0             789.0         0.510940               1.0   \n",
       "\n",
       "       n_non_stop_unique_tokens  num_hrefs  num_self_hrefs  num_imgs  ...  \\\n",
       "25609                  0.587963        9.0             1.0       1.0  ...   \n",
       "12216                  0.653333       18.0             3.0       1.0  ...   \n",
       "23279                  0.627049       12.0             0.0       1.0  ...   \n",
       "751                    0.537037       19.0             2.0      10.0  ...   \n",
       "37414                  0.696281       30.0            12.0      11.0  ...   \n",
       "\n",
       "       min_positive_polarity  max_positive_polarity  avg_negative_polarity  \\\n",
       "25609               0.100000                    0.7              -0.271759   \n",
       "12216               0.136364                    0.6               0.000000   \n",
       "23279               0.033333                    1.0              -0.250000   \n",
       "751                 0.200000                    0.6              -0.289352   \n",
       "37414               0.033333                    1.0              -0.310648   \n",
       "\n",
       "       min_negative_polarity  max_negative_polarity  title_subjectivity  \\\n",
       "25609                  -0.60              -0.125000            0.000000   \n",
       "12216                   0.00               0.000000            0.000000   \n",
       "23279                  -0.25              -0.250000            0.250000   \n",
       "751                    -0.40              -0.155556            0.500000   \n",
       "37414                  -0.80              -0.033333            0.454545   \n",
       "\n",
       "       title_sentiment_polarity  abs_title_subjectivity  \\\n",
       "25609                  0.000000                0.500000   \n",
       "12216                  0.000000                0.500000   \n",
       "23279                  0.250000                0.250000   \n",
       "751                    0.136364                0.000000   \n",
       "37414                  0.136364                0.045455   \n",
       "\n",
       "       abs_title_sentiment_polarity  shares  \n",
       "25609                      0.000000    1700  \n",
       "12216                      0.000000    1200  \n",
       "23279                      0.250000    1000  \n",
       "751                        0.136364     423  \n",
       "37414                      0.136364    1500  \n",
       "\n",
       "[5 rows x 61 columns]"
      ]
     },
     "execution_count": 9,
     "metadata": {},
     "output_type": "execute_result"
    }
   ],
   "source": [
    "df.sample(5)"
   ]
  },
  {
   "cell_type": "markdown",
   "metadata": {},
   "source": [
    "#### original data"
   ]
  },
  {
   "cell_type": "code",
   "execution_count": 35,
   "metadata": {
    "ExecuteTime": {
     "end_time": "2020-09-22T15:59:52.855920Z",
     "start_time": "2020-09-22T15:59:52.852142Z"
    }
   },
   "outputs": [
    {
     "data": {
      "text/plain": [
       "array([219., 255., 211., ..., 442., 682., 157.])"
      ]
     },
     "execution_count": 35,
     "metadata": {},
     "output_type": "execute_result"
    }
   ],
   "source": [
    "# Look at the original data - the number of words in an article\n",
    "df['n_tokens_content'].values"
   ]
  },
  {
   "cell_type": "markdown",
   "metadata": {},
   "source": [
    "#### Min-Max Scaling"
   ]
  },
  {
   "cell_type": "code",
   "execution_count": 36,
   "metadata": {
    "ExecuteTime": {
     "end_time": "2020-09-22T15:59:57.353686Z",
     "start_time": "2020-09-22T15:59:57.342755Z"
    }
   },
   "outputs": [
    {
     "data": {
      "text/plain": [
       "array([0.02584376, 0.03009205, 0.02489969, ..., 0.05215955, 0.08048147,\n",
       "       0.01852726])"
      ]
     },
     "execution_count": 36,
     "metadata": {},
     "output_type": "execute_result"
    }
   ],
   "source": [
    "# Min-Max Scaling\n",
    "\n",
    "minmaxscaler = MinMaxScaler()\n",
    "df['minmax'] = minmaxscaler.fit_transform(df[['n_tokens_content']])\n",
    "df['minmax'].values"
   ]
  },
  {
   "cell_type": "markdown",
   "metadata": {},
   "source": [
    "#### Standardization (variance scaling)"
   ]
  },
  {
   "cell_type": "code",
   "execution_count": 50,
   "metadata": {
    "ExecuteTime": {
     "end_time": "2020-09-22T16:14:46.222209Z",
     "start_time": "2020-09-22T16:14:46.212038Z"
    }
   },
   "outputs": [
    {
     "data": {
      "text/plain": [
       "array([-0.69521045, -0.61879381, -0.71219192, ..., -0.2218518 ,\n",
       "        0.28759248, -0.82681689])"
      ]
     },
     "execution_count": 50,
     "metadata": {},
     "output_type": "execute_result"
    }
   ],
   "source": [
    "# Standardization\n",
    "\n",
    "standardscaler = StandardScaler()\n",
    "df['standardized'] = standardscaler.fit_transform(df[['n_tokens_content']])\n",
    "df['standardized'].values"
   ]
  },
  {
   "cell_type": "markdown",
   "metadata": {},
   "source": [
    "#### L2 - normalization"
   ]
  },
  {
   "cell_type": "code",
   "execution_count": 65,
   "metadata": {
    "ExecuteTime": {
     "end_time": "2020-09-22T16:33:45.625160Z",
     "start_time": "2020-09-22T16:33:45.616271Z"
    }
   },
   "outputs": [
    {
     "data": {
      "text/plain": [
       "array([0.00152439, 0.00177498, 0.00146871, ..., 0.00307663, 0.0047472 ,\n",
       "       0.00109283])"
      ]
     },
     "execution_count": 65,
     "metadata": {},
     "output_type": "execute_result"
    }
   ],
   "source": [
    "# L2 Normalization\n",
    "\n",
    "df['l2_norm'] = normalize(df[['n_tokens_content']], axis=0)\n",
    "df['l2_norm'].values"
   ]
  },
  {
   "cell_type": "markdown",
   "metadata": {},
   "source": [
    " Plotting the histograms of original and scaled data\n"
   ]
  },
  {
   "cell_type": "code",
   "execution_count": 72,
   "metadata": {
    "ExecuteTime": {
     "end_time": "2020-09-22T16:38:50.680453Z",
     "start_time": "2020-09-22T16:38:49.883235Z"
    }
   },
   "outputs": [
    {
     "data": {
      "image/png": "[encoded data removed]",
      "text/plain": [
       "<Figure size 432x288 with 4 Axes>"
      ]
     },
     "metadata": {
      "needs_background": "light"
     },
     "output_type": "display_data"
    }
   ],
   "source": [
    "import matplotlib.pyplot as plt\n",
    "\n",
    "fig, (ax1, ax2, ax3, ax4) = plt.subplots(4,1)\n",
    "plt.tight_layout()\n",
    "\n",
    "df['n_tokens_content'].hist(ax=ax1, bins=100)\n",
    "ax1.tick_params(labelsize=14)\n",
    "ax1.set_xlabel('Article word count', fontsize=14)\n",
    "ax1.set_ylabel('Number of articles', fontsize=14)\n",
    "\n",
    "df['minmax'].hist(ax=ax2, bins=100)\n",
    "ax2.tick_params(labelsize=14)\n",
    "ax2.set_xlabel('Min-max scaled word count', fontsize=14)\n",
    "ax2.set_ylabel('Number of articles', fontsize=14)\n",
    "\n",
    "df['standardized'].hist(ax=ax3, bins=100)\n",
    "ax3.tick_params(labelsize=14)\n",
    "ax3.set_xlabel('Standardized word count', fontsize=14)\n",
    "ax3.set_ylabel('Number of articles', fontsize=14)\n",
    "\n",
    "df['l2_norm'].hist(ax=ax4, bins=100)\n",
    "ax4.tick_params(labelsize=14)\n",
    "ax4.set_xlabel('L2-normalized word count', fontsize=14)\n",
    "ax4.set_ylabel('Number of articles', fontsize=14)\n",
    "\n",
    "plt.show()"
   ]
  },
  {
   "cell_type": "code",
   "execution_count": null,
   "metadata": {},
   "outputs": [],
   "source": []
  }
 ],
 "metadata": {
  "kernelspec": {
   "display_name": "Python 3",
   "language": "python",
   "name": "python3"
  },
  "language_info": {
   "codemirror_mode": {
    "name": "ipython",
    "version": 3
   },
   "file_extension": ".py",
   "mimetype": "text/x-python",
   "name": "python",
   "nbconvert_exporter": "python",
   "pygments_lexer": "ipython3",
   "version": "3.7.4"
  }
 },
 "nbformat": 4,
 "nbformat_minor": 4
}
