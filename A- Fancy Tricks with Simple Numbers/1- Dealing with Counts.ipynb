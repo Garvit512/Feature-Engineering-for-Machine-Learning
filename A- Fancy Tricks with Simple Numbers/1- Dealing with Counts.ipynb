{
 "cells": [
  {
   "cell_type": "markdown",
   "metadata": {},
   "source": [
    "## Binarization"
   ]
  },
  {
   "cell_type": "markdown",
   "metadata": {},
   "source": [
    "Sometimes the count doesn't give the actual results of something might happen or not, if taking example of liking and disliking of a song, we can't say that if a person listen a song 20 times likes it 2x time than a person listens 10 times only. Maybe the later one listen it occasionally and the prior one on daily basis."
   ]
  },
  {
   "cell_type": "markdown",
   "metadata": {},
   "source": [
    "### Binarizing listen counts in the Million Song Dataset\n"
   ]
  },
  {
   "cell_type": "code",
   "execution_count": 2,
   "metadata": {},
   "outputs": [],
   "source": [
    "import pandas as pd\n",
    "listen_count = pd.read_csv(\"/home/garvit/Downloads/Compressed/train_triplets.txt.zip\", \n",
    "                           header = None, delimiter='\\t')"
   ]
  },
  {
   "cell_type": "code",
   "execution_count": 16,
   "metadata": {},
   "outputs": [
    {
     "data": {
      "text/html": [
       "<div>\n",
       "<style scoped>\n",
       "    .dataframe tbody tr th:only-of-type {\n",
       "        vertical-align: middle;\n",
       "    }\n",
       "\n",
       "    .dataframe tbody tr th {\n",
       "        vertical-align: top;\n",
       "    }\n",
       "\n",
       "    .dataframe thead th {\n",
       "        text-align: right;\n",
       "    }\n",
       "</style>\n",
       "<table border=\"1\" class=\"dataframe\">\n",
       "  <thead>\n",
       "    <tr style=\"text-align: right;\">\n",
       "      <th></th>\n",
       "      <th>0</th>\n",
       "      <th>1</th>\n",
       "      <th>2</th>\n",
       "    </tr>\n",
       "  </thead>\n",
       "  <tbody>\n",
       "    <tr>\n",
       "      <th>32950602</th>\n",
       "      <td>bf63ed6c770270506e12153661c5aae2d6e640b4</td>\n",
       "      <td>SOBICLO12A67FFB422</td>\n",
       "      <td>1</td>\n",
       "    </tr>\n",
       "    <tr>\n",
       "      <th>5396704</th>\n",
       "      <td>5cdc71d8629a43328efde899d17a163138573972</td>\n",
       "      <td>SOTPSEG12AB0186CB8</td>\n",
       "      <td>1</td>\n",
       "    </tr>\n",
       "    <tr>\n",
       "      <th>39910583</th>\n",
       "      <td>205e908c570cc3f1fda53797693b5b24fd7a7285</td>\n",
       "      <td>SOPTLQL12AB018D56F</td>\n",
       "      <td>1</td>\n",
       "    </tr>\n",
       "    <tr>\n",
       "      <th>38030812</th>\n",
       "      <td>344883e2ce925e65cff0d8325d4b6905b1e3d222</td>\n",
       "      <td>SONELPS12A8C14385A</td>\n",
       "      <td>6</td>\n",
       "    </tr>\n",
       "    <tr>\n",
       "      <th>31684151</th>\n",
       "      <td>ffa68fcb9f2f3860d9868b23fdb196ab15cc5ce7</td>\n",
       "      <td>SOCVTLJ12A6310F0FD</td>\n",
       "      <td>1</td>\n",
       "    </tr>\n",
       "    <tr>\n",
       "      <th>28103055</th>\n",
       "      <td>8bd92a28f5e23d04a276acea2cd62c79bf815590</td>\n",
       "      <td>SOPXTAX12A6D4F573B</td>\n",
       "      <td>1</td>\n",
       "    </tr>\n",
       "    <tr>\n",
       "      <th>25066164</th>\n",
       "      <td>4661129f134018e9b88c5d08c95207428ae9813b</td>\n",
       "      <td>SOUDBSW12A58A7B103</td>\n",
       "      <td>3</td>\n",
       "    </tr>\n",
       "    <tr>\n",
       "      <th>22049429</th>\n",
       "      <td>af703436471430e95e257b44927393b11d082aeb</td>\n",
       "      <td>SOAIVZL12A8C139DFB</td>\n",
       "      <td>2</td>\n",
       "    </tr>\n",
       "    <tr>\n",
       "      <th>38219482</th>\n",
       "      <td>5d621fd9ea53ed22f8d91efa2834c50f5c2946c6</td>\n",
       "      <td>SOGXGDX12AB0181AFD</td>\n",
       "      <td>1</td>\n",
       "    </tr>\n",
       "    <tr>\n",
       "      <th>5620696</th>\n",
       "      <td>2ce6e1a794ad57480aad740eff6384aab9f4fbb0</td>\n",
       "      <td>SOQJJVM12A6D4FAC73</td>\n",
       "      <td>1</td>\n",
       "    </tr>\n",
       "  </tbody>\n",
       "</table>\n",
       "</div>"
      ],
      "text/plain": [
       "                                                 0                   1  2\n",
       "32950602  bf63ed6c770270506e12153661c5aae2d6e640b4  SOBICLO12A67FFB422  1\n",
       "5396704   5cdc71d8629a43328efde899d17a163138573972  SOTPSEG12AB0186CB8  1\n",
       "39910583  205e908c570cc3f1fda53797693b5b24fd7a7285  SOPTLQL12AB018D56F  1\n",
       "38030812  344883e2ce925e65cff0d8325d4b6905b1e3d222  SONELPS12A8C14385A  6\n",
       "31684151  ffa68fcb9f2f3860d9868b23fdb196ab15cc5ce7  SOCVTLJ12A6310F0FD  1\n",
       "28103055  8bd92a28f5e23d04a276acea2cd62c79bf815590  SOPXTAX12A6D4F573B  1\n",
       "25066164  4661129f134018e9b88c5d08c95207428ae9813b  SOUDBSW12A58A7B103  3\n",
       "22049429  af703436471430e95e257b44927393b11d082aeb  SOAIVZL12A8C139DFB  2\n",
       "38219482  5d621fd9ea53ed22f8d91efa2834c50f5c2946c6  SOGXGDX12AB0181AFD  1\n",
       "5620696   2ce6e1a794ad57480aad740eff6384aab9f4fbb0  SOQJJVM12A6D4FAC73  1"
      ]
     },
     "execution_count": 16,
     "metadata": {},
     "output_type": "execute_result"
    }
   ],
   "source": [
    "listen_count.sample(10)"
   ]
  },
  {
   "cell_type": "code",
   "execution_count": 17,
   "metadata": {},
   "outputs": [],
   "source": [
    "listen_count[2] = 1"
   ]
  },
  {
   "cell_type": "code",
   "execution_count": 20,
   "metadata": {},
   "outputs": [
    {
     "data": {
      "text/html": [
       "<div>\n",
       "<style scoped>\n",
       "    .dataframe tbody tr th:only-of-type {\n",
       "        vertical-align: middle;\n",
       "    }\n",
       "\n",
       "    .dataframe tbody tr th {\n",
       "        vertical-align: top;\n",
       "    }\n",
       "\n",
       "    .dataframe thead th {\n",
       "        text-align: right;\n",
       "    }\n",
       "</style>\n",
       "<table border=\"1\" class=\"dataframe\">\n",
       "  <thead>\n",
       "    <tr style=\"text-align: right;\">\n",
       "      <th></th>\n",
       "      <th>0</th>\n",
       "      <th>1</th>\n",
       "      <th>2</th>\n",
       "    </tr>\n",
       "  </thead>\n",
       "  <tbody>\n",
       "    <tr>\n",
       "      <th>16098094</th>\n",
       "      <td>bf3ea0d3b9bf47fed9d6959a12b9a765c5fd02c3</td>\n",
       "      <td>SOQQRXS12AF72A186D</td>\n",
       "      <td>1</td>\n",
       "    </tr>\n",
       "    <tr>\n",
       "      <th>19966826</th>\n",
       "      <td>5bbae5c48fb5dce65e39ca9ec279e65f874fd61d</td>\n",
       "      <td>SOPSKCR12A6D4F8B99</td>\n",
       "      <td>1</td>\n",
       "    </tr>\n",
       "    <tr>\n",
       "      <th>39979627</th>\n",
       "      <td>f1734f5253ad22661434041118be57af5f562c60</td>\n",
       "      <td>SOZTZRR12A58A80C97</td>\n",
       "      <td>1</td>\n",
       "    </tr>\n",
       "    <tr>\n",
       "      <th>47953053</th>\n",
       "      <td>8da6dfc1af934d2741378caf8f28405a32908c2c</td>\n",
       "      <td>SOGPGBV12A6701EEE5</td>\n",
       "      <td>1</td>\n",
       "    </tr>\n",
       "    <tr>\n",
       "      <th>34887140</th>\n",
       "      <td>89c04b717d849cdc919cc43b75d3086e786b6f55</td>\n",
       "      <td>SOSMNLX12AF72A0DBE</td>\n",
       "      <td>1</td>\n",
       "    </tr>\n",
       "    <tr>\n",
       "      <th>21453241</th>\n",
       "      <td>b9c8c49115d06e9f811a74e53514fb81a85a95a7</td>\n",
       "      <td>SOIFSNB12AC468ACA6</td>\n",
       "      <td>1</td>\n",
       "    </tr>\n",
       "    <tr>\n",
       "      <th>9909482</th>\n",
       "      <td>20ee871eb9720889f65d4f9ee0ab3505ab9eda29</td>\n",
       "      <td>SOQIYDW12AB0187C01</td>\n",
       "      <td>1</td>\n",
       "    </tr>\n",
       "    <tr>\n",
       "      <th>19785709</th>\n",
       "      <td>e2165d499f740144a4d8eca17dc6da9f8ae86fc8</td>\n",
       "      <td>SOEBCQH12A8AE46E5C</td>\n",
       "      <td>1</td>\n",
       "    </tr>\n",
       "    <tr>\n",
       "      <th>25031954</th>\n",
       "      <td>d6a40f4da871fb4bebe4ade93867e2df3850e74b</td>\n",
       "      <td>SOVEXFH12AB0185569</td>\n",
       "      <td>1</td>\n",
       "    </tr>\n",
       "    <tr>\n",
       "      <th>9281401</th>\n",
       "      <td>f2bd0346f11e050ef577e3a12f30a9d8964c3ad3</td>\n",
       "      <td>SOINUJV12A8C1429E9</td>\n",
       "      <td>1</td>\n",
       "    </tr>\n",
       "  </tbody>\n",
       "</table>\n",
       "</div>"
      ],
      "text/plain": [
       "                                                 0                   1  2\n",
       "16098094  bf3ea0d3b9bf47fed9d6959a12b9a765c5fd02c3  SOQQRXS12AF72A186D  1\n",
       "19966826  5bbae5c48fb5dce65e39ca9ec279e65f874fd61d  SOPSKCR12A6D4F8B99  1\n",
       "39979627  f1734f5253ad22661434041118be57af5f562c60  SOZTZRR12A58A80C97  1\n",
       "47953053  8da6dfc1af934d2741378caf8f28405a32908c2c  SOGPGBV12A6701EEE5  1\n",
       "34887140  89c04b717d849cdc919cc43b75d3086e786b6f55  SOSMNLX12AF72A0DBE  1\n",
       "21453241  b9c8c49115d06e9f811a74e53514fb81a85a95a7  SOIFSNB12AC468ACA6  1\n",
       "9909482   20ee871eb9720889f65d4f9ee0ab3505ab9eda29  SOQIYDW12AB0187C01  1\n",
       "19785709  e2165d499f740144a4d8eca17dc6da9f8ae86fc8  SOEBCQH12A8AE46E5C  1\n",
       "25031954  d6a40f4da871fb4bebe4ade93867e2df3850e74b  SOVEXFH12AB0185569  1\n",
       "9281401   f2bd0346f11e050ef577e3a12f30a9d8964c3ad3  SOINUJV12A8C1429E9  1"
      ]
     },
     "execution_count": 20,
     "metadata": {},
     "output_type": "execute_result"
    }
   ],
   "source": [
    "listen_count.sample(10)"
   ]
  },
  {
   "cell_type": "markdown",
   "metadata": {},
   "source": [
    "## Quantization or Binning"
   ]
  },
  {
   "cell_type": "markdown",
   "metadata": {},
   "source": [
    "###  Visualizing business review counts in the Yelp dataset\n"
   ]
  },
  {
   "cell_type": "code",
   "execution_count": 1,
   "metadata": {
    "ExecuteTime": {
     "end_time": "2020-09-21T13:46:36.592357Z",
     "start_time": "2020-09-21T13:46:36.416024Z"
    }
   },
   "outputs": [],
   "source": [
    "import pandas as pd\n",
    "import json"
   ]
  },
  {
   "cell_type": "code",
   "execution_count": 2,
   "metadata": {
    "ExecuteTime": {
     "end_time": "2020-09-21T13:46:48.717999Z",
     "start_time": "2020-09-21T13:46:45.060696Z"
    }
   },
   "outputs": [],
   "source": [
    "# load data about businesses\n",
    "biz_df = pd.read_json(\"/home/garvit/Downloads/yelp_academic_dataset_business.json\", lines=True)"
   ]
  },
  {
   "cell_type": "code",
   "execution_count": 15,
   "metadata": {
    "ExecuteTime": {
     "end_time": "2020-09-21T13:47:09.844784Z",
     "start_time": "2020-09-21T13:47:09.811454Z"
    }
   },
   "outputs": [
    {
     "data": {
      "text/html": [
       "<div>\n",
       "<style scoped>\n",
       "    .dataframe tbody tr th:only-of-type {\n",
       "        vertical-align: middle;\n",
       "    }\n",
       "\n",
       "    .dataframe tbody tr th {\n",
       "        vertical-align: top;\n",
       "    }\n",
       "\n",
       "    .dataframe thead th {\n",
       "        text-align: right;\n",
       "    }\n",
       "</style>\n",
       "<table border=\"1\" class=\"dataframe\">\n",
       "  <thead>\n",
       "    <tr style=\"text-align: right;\">\n",
       "      <th></th>\n",
       "      <th>business_id</th>\n",
       "      <th>name</th>\n",
       "      <th>address</th>\n",
       "      <th>city</th>\n",
       "      <th>state</th>\n",
       "      <th>postal_code</th>\n",
       "      <th>latitude</th>\n",
       "      <th>longitude</th>\n",
       "      <th>stars</th>\n",
       "      <th>review_count</th>\n",
       "      <th>is_open</th>\n",
       "      <th>attributes</th>\n",
       "      <th>categories</th>\n",
       "      <th>hours</th>\n",
       "    </tr>\n",
       "  </thead>\n",
       "  <tbody>\n",
       "    <tr>\n",
       "      <th>124338</th>\n",
       "      <td>XL_UXD2rDSO37i4A56W_bw</td>\n",
       "      <td>Yoga Flow</td>\n",
       "      <td>250 Mt Lebanon Blvd</td>\n",
       "      <td>Pittsburgh</td>\n",
       "      <td>PA</td>\n",
       "      <td>15234</td>\n",
       "      <td>40.367990</td>\n",
       "      <td>-80.036804</td>\n",
       "      <td>5.0</td>\n",
       "      <td>8</td>\n",
       "      <td>1</td>\n",
       "      <td>{'BusinessAcceptsCreditCards': 'True', 'BikePa...</td>\n",
       "      <td>Active Life, Yoga, Fitness &amp; Instruction</td>\n",
       "      <td>None</td>\n",
       "    </tr>\n",
       "    <tr>\n",
       "      <th>70665</th>\n",
       "      <td>ePPpo0BL1J_59RQHI3HRVw</td>\n",
       "      <td>Hawthorn Suites By Wyndham Champaign</td>\n",
       "      <td>101 Trade Centre Dr</td>\n",
       "      <td>Champaign</td>\n",
       "      <td>IL</td>\n",
       "      <td>61820</td>\n",
       "      <td>40.096773</td>\n",
       "      <td>-88.246042</td>\n",
       "      <td>3.0</td>\n",
       "      <td>33</td>\n",
       "      <td>1</td>\n",
       "      <td>{'RestaurantsPriceRange2': '2', 'BusinessAccep...</td>\n",
       "      <td>Event Planning &amp; Services, Hotels &amp; Travel, Ho...</td>\n",
       "      <td>None</td>\n",
       "    </tr>\n",
       "    <tr>\n",
       "      <th>129553</th>\n",
       "      <td>c_01eTIw96_dKmIT_5vUIg</td>\n",
       "      <td>Bella Vista Window Cleaning</td>\n",
       "      <td>11825 N 90th Way</td>\n",
       "      <td>Scottsdale</td>\n",
       "      <td>AZ</td>\n",
       "      <td>85260</td>\n",
       "      <td>33.594439</td>\n",
       "      <td>-111.885536</td>\n",
       "      <td>5.0</td>\n",
       "      <td>10</td>\n",
       "      <td>1</td>\n",
       "      <td>{'BusinessAcceptsCreditCards': 'False', 'ByApp...</td>\n",
       "      <td>Window Washing, Home Services</td>\n",
       "      <td>{'Monday': '8:0-17:30', 'Tuesday': '8:0-17:30'...</td>\n",
       "    </tr>\n",
       "    <tr>\n",
       "      <th>38340</th>\n",
       "      <td>73xZEq9IPdAhLOzDGsFBqA</td>\n",
       "      <td>Christine's Hot Rod Hair</td>\n",
       "      <td>3772 Clague Rd</td>\n",
       "      <td>North Olmsted</td>\n",
       "      <td>OH</td>\n",
       "      <td>44070</td>\n",
       "      <td>41.433591</td>\n",
       "      <td>-81.880582</td>\n",
       "      <td>5.0</td>\n",
       "      <td>3</td>\n",
       "      <td>1</td>\n",
       "      <td>{'GoodForKids': 'True'}</td>\n",
       "      <td>Hair Salons, Barbers, Beauty &amp; Spas</td>\n",
       "      <td>None</td>\n",
       "    </tr>\n",
       "  </tbody>\n",
       "</table>\n",
       "</div>"
      ],
      "text/plain": [
       "                   business_id                                  name  \\\n",
       "124338  XL_UXD2rDSO37i4A56W_bw                             Yoga Flow   \n",
       "70665   ePPpo0BL1J_59RQHI3HRVw  Hawthorn Suites By Wyndham Champaign   \n",
       "129553  c_01eTIw96_dKmIT_5vUIg           Bella Vista Window Cleaning   \n",
       "38340   73xZEq9IPdAhLOzDGsFBqA              Christine's Hot Rod Hair   \n",
       "\n",
       "                    address           city state postal_code   latitude  \\\n",
       "124338  250 Mt Lebanon Blvd     Pittsburgh    PA       15234  40.367990   \n",
       "70665   101 Trade Centre Dr      Champaign    IL       61820  40.096773   \n",
       "129553     11825 N 90th Way     Scottsdale    AZ       85260  33.594439   \n",
       "38340        3772 Clague Rd  North Olmsted    OH       44070  41.433591   \n",
       "\n",
       "         longitude  stars  review_count  is_open  \\\n",
       "124338  -80.036804    5.0             8        1   \n",
       "70665   -88.246042    3.0            33        1   \n",
       "129553 -111.885536    5.0            10        1   \n",
       "38340   -81.880582    5.0             3        1   \n",
       "\n",
       "                                               attributes  \\\n",
       "124338  {'BusinessAcceptsCreditCards': 'True', 'BikePa...   \n",
       "70665   {'RestaurantsPriceRange2': '2', 'BusinessAccep...   \n",
       "129553  {'BusinessAcceptsCreditCards': 'False', 'ByApp...   \n",
       "38340                             {'GoodForKids': 'True'}   \n",
       "\n",
       "                                               categories  \\\n",
       "124338           Active Life, Yoga, Fitness & Instruction   \n",
       "70665   Event Planning & Services, Hotels & Travel, Ho...   \n",
       "129553                      Window Washing, Home Services   \n",
       "38340                 Hair Salons, Barbers, Beauty & Spas   \n",
       "\n",
       "                                                    hours  \n",
       "124338                                               None  \n",
       "70665                                                None  \n",
       "129553  {'Monday': '8:0-17:30', 'Tuesday': '8:0-17:30'...  \n",
       "38340                                                None  "
      ]
     },
     "execution_count": 15,
     "metadata": {},
     "output_type": "execute_result"
    }
   ],
   "source": [
    "biz_df.sample(4)"
   ]
  },
  {
   "cell_type": "code",
   "execution_count": 17,
   "metadata": {
    "ExecuteTime": {
     "end_time": "2020-09-21T13:48:39.230811Z",
     "start_time": "2020-09-21T13:48:38.919197Z"
    }
   },
   "outputs": [],
   "source": [
    "import matplotlib.pyplot as plt\n",
    "import seaborn as sns"
   ]
  },
  {
   "cell_type": "code",
   "execution_count": 18,
   "metadata": {
    "ExecuteTime": {
     "end_time": "2020-09-21T13:48:46.784179Z",
     "start_time": "2020-09-21T13:48:40.716559Z"
    }
   },
   "outputs": [
    {
     "data": {
      "text/plain": [
       "Text(0, 0.5, 'Occurrence')"
      ]
     },
     "execution_count": 18,
     "metadata": {},
     "output_type": "execute_result"
    },
    {
     "data": {
      "image/png": "[encoded data removed]",
      "text/plain": [
       "<Figure size 432x288 with 1 Axes>"
      ]
     },
     "metadata": {},
     "output_type": "display_data"
    }
   ],
   "source": [
    "# Plot the histogram of the review counts\n",
    "sns.set_style('whitegrid')\n",
    "fig, ax = plt.subplots()\n",
    "biz_df['review_count'].hist(ax=ax, bins=100)\n",
    "ax.set_yscale('log')\n",
    "ax.tick_params(labelsize=14)\n",
    "ax.set_xlabel('Review Count', fontsize=14)\n",
    "ax.set_ylabel('Occurrence', fontsize=14)"
   ]
  },
  {
   "cell_type": "markdown",
   "metadata": {},
   "source": [
    "### Fixed-width binning\n"
   ]
  },
  {
   "cell_type": "markdown",
   "metadata": {},
   "source": [
    "Quantizing counts with fixed-width bins\n"
   ]
  },
  {
   "cell_type": "code",
   "execution_count": 19,
   "metadata": {
    "ExecuteTime": {
     "end_time": "2020-09-21T13:48:49.597185Z",
     "start_time": "2020-09-21T13:48:49.591889Z"
    }
   },
   "outputs": [],
   "source": [
    "import numpy as np"
   ]
  },
  {
   "cell_type": "code",
   "execution_count": 20,
   "metadata": {
    "ExecuteTime": {
     "end_time": "2020-09-21T13:48:55.216445Z",
     "start_time": "2020-09-21T13:48:51.877014Z"
    }
   },
   "outputs": [
    {
     "name": "stdout",
     "output_type": "stream",
     "text": [
      "[94 60 52 92 51 10  0 59 25 76 98 30 48 23 50 31 88 73 22 45]\n"
     ]
    },
    {
     "data": {
      "text/plain": [
       "array([9, 6, 5, 9, 5, 1, 0, 5, 2, 7, 9, 3, 4, 2, 5, 3, 8, 7, 2, 4])"
      ]
     },
     "execution_count": 20,
     "metadata": {},
     "output_type": "execute_result"
    }
   ],
   "source": [
    "# Generate 20 random integers uniformly between 0 and 99\n",
    "small_counts = np.random.randint(0, 100, 20)\n",
    "print(small_counts)\n",
    "\n",
    "# Map to evenly spaced bins 0-9 by division\n",
    "divisor = 10\n",
    "np.floor_divide(small_counts, divisor)"
   ]
  },
  {
   "cell_type": "code",
   "execution_count": 21,
   "metadata": {
    "ExecuteTime": {
     "end_time": "2020-09-21T13:49:00.399521Z",
     "start_time": "2020-09-21T13:49:00.382468Z"
    }
   },
   "outputs": [
    {
     "data": {
      "text/plain": [
       "array([2., 3., 4., 1., 0., 2., 2., 3., 3., 4., 4., 1., 1., 3., 2., 2., 4.])"
      ]
     },
     "execution_count": 21,
     "metadata": {},
     "output_type": "execute_result"
    }
   ],
   "source": [
    "# An array of counts that span several magnitudes\n",
    "large_counts = [296, 8286, 64011, 80, 3, 725, 867, 2215, 7689, 11495, 91897,44, 28, 7971, 926, 122, 22222]\n",
    "\n",
    "# Map to exponential-width bins via the log function\n",
    "np.floor(np.log10(large_counts))"
   ]
  },
  {
   "cell_type": "markdown",
   "metadata": {},
   "source": [
    "### Quantile binning\n"
   ]
  },
  {
   "cell_type": "markdown",
   "metadata": {},
   "source": [
    "Computing deciles of Yelp business review counts\n"
   ]
  },
  {
   "cell_type": "code",
   "execution_count": 22,
   "metadata": {
    "ExecuteTime": {
     "end_time": "2020-09-21T13:49:03.770169Z",
     "start_time": "2020-09-21T13:49:03.742760Z"
    }
   },
   "outputs": [
    {
     "data": {
      "text/plain": [
       "0.1     3.0\n",
       "0.2     4.0\n",
       "0.3     5.0\n",
       "0.4     7.0\n",
       "0.5     9.0\n",
       "0.6    14.0\n",
       "0.7    21.0\n",
       "0.8    36.0\n",
       "0.9    77.0\n",
       "Name: review_count, dtype: float64"
      ]
     },
     "execution_count": 22,
     "metadata": {},
     "output_type": "execute_result"
    }
   ],
   "source": [
    "deciles = biz_df['review_count'].quantile([.1, .2, .3, .4, .5, .6, .7, .8, .9])\n",
    "deciles"
   ]
  },
  {
   "cell_type": "code",
   "execution_count": 23,
   "metadata": {
    "ExecuteTime": {
     "end_time": "2020-09-21T13:49:07.250247Z",
     "start_time": "2020-09-21T13:49:06.178968Z"
    }
   },
   "outputs": [
    {
     "data": {
      "text/plain": [
       "Text(0, 0.5, 'Occurrence')"
      ]
     },
     "execution_count": 23,
     "metadata": {},
     "output_type": "execute_result"
    },
    {
     "data": {
      "image/png": "[encoded data removed]",
      "text/plain": [
       "<Figure size 432x288 with 1 Axes>"
      ]
     },
     "metadata": {},
     "output_type": "display_data"
    }
   ],
   "source": [
    "# Visualize the deciles on the histogram\n",
    "sns.set_style('whitegrid')\n",
    "fig, ax = plt.subplots()\n",
    "biz_df['review_count'].hist(ax=ax, bins=100)\n",
    "for pos in deciles:\n",
    "    handle = plt.axvline(pos, color='r')\n",
    "ax.legend([handle], ['deciles'], fontsize=14)\n",
    "ax.set_yscale('log')\n",
    "ax.set_xscale('log')\n",
    "ax.tick_params(labelsize=14)\n",
    "ax.set_xlabel('Review Count', fontsize=14)\n",
    "ax.set_ylabel('Occurrence', fontsize=14)\n"
   ]
  },
  {
   "cell_type": "markdown",
   "metadata": {},
   "source": [
    " Binning counts by quantiles\n"
   ]
  },
  {
   "cell_type": "code",
   "execution_count": 24,
   "metadata": {
    "ExecuteTime": {
     "end_time": "2020-09-21T13:49:10.325666Z",
     "start_time": "2020-09-21T13:49:10.321567Z"
    }
   },
   "outputs": [],
   "source": [
    "# Continue example 2-3 with large_counts\n",
    "import pandas as pd"
   ]
  },
  {
   "cell_type": "code",
   "execution_count": 25,
   "metadata": {
    "ExecuteTime": {
     "end_time": "2020-09-21T13:50:10.008069Z",
     "start_time": "2020-09-21T13:50:09.996384Z"
    }
   },
   "outputs": [
    {
     "data": {
      "text/plain": [
       "array([1, 2, 3, 0, 0, 1, 1, 2, 2, 3, 3, 0, 0, 2, 1, 0, 3])"
      ]
     },
     "execution_count": 25,
     "metadata": {},
     "output_type": "execute_result"
    }
   ],
   "source": [
    "# Map the counts to quartiles\n",
    "pd.qcut(x=large_counts, q=4, labels=False)"
   ]
  }
 ],
 "metadata": {
  "kernelspec": {
   "display_name": "Python 3",
   "language": "python",
   "name": "python3"
  },
  "language_info": {
   "codemirror_mode": {
    "name": "ipython",
    "version": 3
   },
   "file_extension": ".py",
   "mimetype": "text/x-python",
   "name": "python",
   "nbconvert_exporter": "python",
   "pygments_lexer": "ipython3",
   "version": "3.7.4"
  }
 },
 "nbformat": 4,
 "nbformat_minor": 4
}
