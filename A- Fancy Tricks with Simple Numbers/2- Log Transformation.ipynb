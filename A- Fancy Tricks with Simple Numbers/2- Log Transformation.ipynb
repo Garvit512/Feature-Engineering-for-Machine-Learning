{
 "cells": [
  {
   "cell_type": "markdown",
   "metadata": {},
   "source": [
    "## Log Transform on Yelp Reviews Dataset¶\n"
   ]
  },
  {
   "cell_type": "markdown",
   "metadata": {},
   "source": [
    "Visualizing the distribution of review counts before and after log\n",
    "transform\n"
   ]
  },
  {
   "cell_type": "code",
   "execution_count": 6,
   "metadata": {
    "ExecuteTime": {
     "end_time": "2020-09-21T14:52:45.226046Z",
     "start_time": "2020-09-21T14:52:45.220684Z"
    }
   },
   "outputs": [],
   "source": [
    "import pandas as pd\n",
    "import matplotlib.pyplot as plt\n",
    "import seaborn as sns\n",
    "from math import log10"
   ]
  },
  {
   "cell_type": "code",
   "execution_count": 3,
   "metadata": {
    "ExecuteTime": {
     "end_time": "2020-09-21T14:50:52.271468Z",
     "start_time": "2020-09-21T14:50:48.614428Z"
    }
   },
   "outputs": [],
   "source": [
    "# load data about businesses\n",
    "biz_df = pd.read_json(\"/home/garvit/Downloads/yelp_academic_dataset_business.json\", lines=True)"
   ]
  },
  {
   "cell_type": "code",
   "execution_count": 4,
   "metadata": {
    "ExecuteTime": {
     "end_time": "2020-09-21T14:50:54.416911Z",
     "start_time": "2020-09-21T14:50:54.371774Z"
    }
   },
   "outputs": [
    {
     "data": {
      "text/html": [
       "<div>\n",
       "<style scoped>\n",
       "    .dataframe tbody tr th:only-of-type {\n",
       "        vertical-align: middle;\n",
       "    }\n",
       "\n",
       "    .dataframe tbody tr th {\n",
       "        vertical-align: top;\n",
       "    }\n",
       "\n",
       "    .dataframe thead th {\n",
       "        text-align: right;\n",
       "    }\n",
       "</style>\n",
       "<table border=\"1\" class=\"dataframe\">\n",
       "  <thead>\n",
       "    <tr style=\"text-align: right;\">\n",
       "      <th></th>\n",
       "      <th>business_id</th>\n",
       "      <th>name</th>\n",
       "      <th>address</th>\n",
       "      <th>city</th>\n",
       "      <th>state</th>\n",
       "      <th>postal_code</th>\n",
       "      <th>latitude</th>\n",
       "      <th>longitude</th>\n",
       "      <th>stars</th>\n",
       "      <th>review_count</th>\n",
       "      <th>is_open</th>\n",
       "      <th>attributes</th>\n",
       "      <th>categories</th>\n",
       "      <th>hours</th>\n",
       "    </tr>\n",
       "  </thead>\n",
       "  <tbody>\n",
       "    <tr>\n",
       "      <th>88642</th>\n",
       "      <td>VyqC3N2iBtR6PczQGafe5w</td>\n",
       "      <td>Diner On 55th</td>\n",
       "      <td>1328 E 55th St</td>\n",
       "      <td>Cleveland</td>\n",
       "      <td>OH</td>\n",
       "      <td>44103</td>\n",
       "      <td>41.522818</td>\n",
       "      <td>-81.652286</td>\n",
       "      <td>3.5</td>\n",
       "      <td>24</td>\n",
       "      <td>1</td>\n",
       "      <td>{'BusinessParking': '{'garage': False, 'street...</td>\n",
       "      <td>Diners, Restaurants, Breakfast &amp; Brunch</td>\n",
       "      <td>{'Monday': '6:0-15:0', 'Tuesday': '6:0-15:0', ...</td>\n",
       "    </tr>\n",
       "    <tr>\n",
       "      <th>35681</th>\n",
       "      <td>v9xKAVargdNtCh-eZmtREg</td>\n",
       "      <td>OverDubb Studio</td>\n",
       "      <td>4680 Polaris Ave</td>\n",
       "      <td>Las Vegas</td>\n",
       "      <td>NV</td>\n",
       "      <td>89103</td>\n",
       "      <td>36.104855</td>\n",
       "      <td>-115.185164</td>\n",
       "      <td>5.0</td>\n",
       "      <td>3</td>\n",
       "      <td>1</td>\n",
       "      <td>{'BusinessAcceptsCreditCards': 'True', 'Busine...</td>\n",
       "      <td>Recording &amp; Rehearsal Studios, Local Services</td>\n",
       "      <td>{'Monday': '0:0-0:0', 'Tuesday': '0:0-0:0', 'W...</td>\n",
       "    </tr>\n",
       "    <tr>\n",
       "      <th>66332</th>\n",
       "      <td>2zwYpObaO4BHGgd5f4-Mng</td>\n",
       "      <td>Tad James Company</td>\n",
       "      <td>1459 Grub Stake Cir</td>\n",
       "      <td>Henderson</td>\n",
       "      <td>NV</td>\n",
       "      <td>89014</td>\n",
       "      <td>36.077178</td>\n",
       "      <td>-115.051084</td>\n",
       "      <td>3.5</td>\n",
       "      <td>3</td>\n",
       "      <td>1</td>\n",
       "      <td>None</td>\n",
       "      <td>Adult Education, Education</td>\n",
       "      <td>None</td>\n",
       "    </tr>\n",
       "    <tr>\n",
       "      <th>136232</th>\n",
       "      <td>lAo90MG7eCN6otc3D7b6Mg</td>\n",
       "      <td>Slade Landscape Maintenance</td>\n",
       "      <td>1053 E Lockwood St</td>\n",
       "      <td>Mesa</td>\n",
       "      <td>AZ</td>\n",
       "      <td>85203</td>\n",
       "      <td>33.455562</td>\n",
       "      <td>-111.807534</td>\n",
       "      <td>4.0</td>\n",
       "      <td>7</td>\n",
       "      <td>1</td>\n",
       "      <td>{'BusinessAcceptsCreditCards': 'True', 'ByAppo...</td>\n",
       "      <td>Gardeners, Landscape Architects, Landscaping, ...</td>\n",
       "      <td>{'Monday': '8:0-17:0', 'Tuesday': '8:0-17:0', ...</td>\n",
       "    </tr>\n",
       "  </tbody>\n",
       "</table>\n",
       "</div>"
      ],
      "text/plain": [
       "                   business_id                         name  \\\n",
       "88642   VyqC3N2iBtR6PczQGafe5w                Diner On 55th   \n",
       "35681   v9xKAVargdNtCh-eZmtREg              OverDubb Studio   \n",
       "66332   2zwYpObaO4BHGgd5f4-Mng            Tad James Company   \n",
       "136232  lAo90MG7eCN6otc3D7b6Mg  Slade Landscape Maintenance   \n",
       "\n",
       "                    address       city state postal_code   latitude  \\\n",
       "88642        1328 E 55th St  Cleveland    OH       44103  41.522818   \n",
       "35681      4680 Polaris Ave  Las Vegas    NV       89103  36.104855   \n",
       "66332   1459 Grub Stake Cir  Henderson    NV       89014  36.077178   \n",
       "136232   1053 E Lockwood St       Mesa    AZ       85203  33.455562   \n",
       "\n",
       "         longitude  stars  review_count  is_open  \\\n",
       "88642   -81.652286    3.5            24        1   \n",
       "35681  -115.185164    5.0             3        1   \n",
       "66332  -115.051084    3.5             3        1   \n",
       "136232 -111.807534    4.0             7        1   \n",
       "\n",
       "                                               attributes  \\\n",
       "88642   {'BusinessParking': '{'garage': False, 'street...   \n",
       "35681   {'BusinessAcceptsCreditCards': 'True', 'Busine...   \n",
       "66332                                                None   \n",
       "136232  {'BusinessAcceptsCreditCards': 'True', 'ByAppo...   \n",
       "\n",
       "                                               categories  \\\n",
       "88642             Diners, Restaurants, Breakfast & Brunch   \n",
       "35681       Recording & Rehearsal Studios, Local Services   \n",
       "66332                          Adult Education, Education   \n",
       "136232  Gardeners, Landscape Architects, Landscaping, ...   \n",
       "\n",
       "                                                    hours  \n",
       "88642   {'Monday': '6:0-15:0', 'Tuesday': '6:0-15:0', ...  \n",
       "35681   {'Monday': '0:0-0:0', 'Tuesday': '0:0-0:0', 'W...  \n",
       "66332                                                None  \n",
       "136232  {'Monday': '8:0-17:0', 'Tuesday': '8:0-17:0', ...  "
      ]
     },
     "execution_count": 4,
     "metadata": {},
     "output_type": "execute_result"
    }
   ],
   "source": [
    "biz_df.sample(4)"
   ]
  },
  {
   "cell_type": "code",
   "execution_count": 8,
   "metadata": {
    "ExecuteTime": {
     "end_time": "2020-09-21T14:53:04.508372Z",
     "start_time": "2020-09-21T14:53:04.070254Z"
    }
   },
   "outputs": [
    {
     "data": {
      "text/plain": [
       "Text(0, 0.5, 'Occurrence')"
      ]
     },
     "execution_count": 8,
     "metadata": {},
     "output_type": "execute_result"
    },
    {
     "data": {
      "image/png": "[encoded data removed]",
      "text/plain": [
       "<Figure size 432x288 with 2 Axes>"
      ]
     },
     "metadata": {
      "needs_background": "light"
     },
     "output_type": "display_data"
    }
   ],
   "source": [
    "fig, (ax1, ax2) = plt.subplots(2,1)\n",
    "\n",
    "biz_df['review_count'].hist(ax=ax1, bins=100)\n",
    "ax1.tick_params(labelsize=14)\n",
    "ax1.set_xlabel('review_count', fontsize=14)\n",
    "ax1.set_ylabel('Occurrence', fontsize=14)\n",
    "\n",
    "biz_df['review_count'].apply(lambda x:log10(x)).hist(ax=ax2, bins=100)\n",
    "ax2.tick_params(labelsize=14)\n",
    "ax2.set_xlabel('log10(review_count))', fontsize=14)\n",
    "ax2.set_ylabel('Occurrence', fontsize=14)"
   ]
  },
  {
   "cell_type": "markdown",
   "metadata": {},
   "source": [
    "## Power Transforms: Generalization of the Log Transform\n"
   ]
  },
  {
   "cell_type": "markdown",
   "metadata": {},
   "source": [
    "### Box-Cox Power Transformation"
   ]
  },
  {
   "cell_type": "markdown",
   "metadata": {},
   "source": [
    " Box-Cox transformation of Yelp business review counts\n"
   ]
  },
  {
   "cell_type": "code",
   "execution_count": 9,
   "metadata": {
    "ExecuteTime": {
     "end_time": "2020-09-21T19:44:36.703602Z",
     "start_time": "2020-09-21T19:44:36.698300Z"
    }
   },
   "outputs": [
    {
     "data": {
      "text/plain": [
       "3"
      ]
     },
     "execution_count": 9,
     "metadata": {},
     "output_type": "execute_result"
    }
   ],
   "source": [
    "from scipy import stats\n",
    "\n",
    "# Continuing from the previous example, assume biz_df contains\n",
    "# the Yelp business reviews data.\n",
    "# The Box-Cox transform assumes that input data is positive.\n",
    "# Check the min to make sure.\n",
    "\n",
    "biz_df['review_count'].min()"
   ]
  },
  {
   "cell_type": "code",
   "execution_count": 22,
   "metadata": {
    "ExecuteTime": {
     "end_time": "2020-09-21T19:53:33.869341Z",
     "start_time": "2020-09-21T19:53:32.722831Z"
    }
   },
   "outputs": [
    {
     "data": {
      "text/plain": [
       "<matplotlib.collections.PathCollection at 0x7ff5a6d1bf10>"
      ]
     },
     "execution_count": 22,
     "metadata": {},
     "output_type": "execute_result"
    },
    {
     "data": {
      "image/png": "[encoded data removed]",
      "text/plain": [
       "<Figure size 432x288 with 1 Axes>"
      ]
     },
     "metadata": {
      "needs_background": "light"
     },
     "output_type": "display_data"
    }
   ],
   "source": [
    "# Setting input parameter lmbda to 0 gives us the log transform (without constant offset)\n",
    "rc_log = stats.boxcox(biz_df['review_count'], lmbda=0)\n",
    "plt.scatter(rc_log, biz_df['stars'])"
   ]
  },
  {
   "cell_type": "code",
   "execution_count": 40,
   "metadata": {
    "ExecuteTime": {
     "end_time": "2020-09-21T20:29:27.134593Z",
     "start_time": "2020-09-21T20:29:26.832170Z"
    }
   },
   "outputs": [
    {
     "data": {
      "text/plain": [
       "-0.3528981448601063"
      ]
     },
     "execution_count": 40,
     "metadata": {},
     "output_type": "execute_result"
    }
   ],
   "source": [
    "# By default, the scipy implementation of Box-Cox transform finds the lambda\n",
    "# parameter that will make the output the closest to a normal distribution\n",
    "rc_bc, bc_params = stats.boxcox(biz_df['review_count'])\n",
    "bc_params"
   ]
  },
  {
   "cell_type": "code",
   "execution_count": 41,
   "metadata": {
    "ExecuteTime": {
     "end_time": "2020-09-21T20:29:33.185268Z",
     "start_time": "2020-09-21T20:29:29.128624Z"
    }
   },
   "outputs": [
    {
     "data": {
      "text/plain": [
       "<matplotlib.collections.PathCollection at 0x7ff5a5e35550>"
      ]
     },
     "execution_count": 41,
     "metadata": {},
     "output_type": "execute_result"
    },
    {
     "data": {
      "image/png": "[encoded data removed]",
      "text/plain": [
       "<Figure size 432x288 with 1 Axes>"
      ]
     },
     "metadata": {
      "needs_background": "light"
     },
     "output_type": "display_data"
    }
   ],
   "source": [
    "# using bc_params (figured value of lambda) \n",
    "plt.scatter(rc_bc, biz_df['stars'])"
   ]
  },
  {
   "cell_type": "markdown",
   "metadata": {},
   "source": [
    "Visualizing the histograms of original, log transformed, and Box-Cox\n",
    "transformed counts\n"
   ]
  },
  {
   "cell_type": "code",
   "execution_count": 46,
   "metadata": {
    "ExecuteTime": {
     "end_time": "2020-09-21T20:40:08.453341Z",
     "start_time": "2020-09-21T20:40:07.678539Z"
    }
   },
   "outputs": [
    {
     "data": {
      "image/png": "[encoded data removed]",
      "text/plain": [
       "<Figure size 432x288 with 3 Axes>"
      ]
     },
     "metadata": {
      "needs_background": "light"
     },
     "output_type": "display_data"
    }
   ],
   "source": [
    "fig, (ax1, ax2, ax3) = plt.subplots(3,1)\n",
    "plt.tight_layout()\n",
    "\n",
    "# original review count histogram\n",
    "biz_df['review_count'].hist(ax = ax1, bins=100)\n",
    "ax1.set_yscale('log')\n",
    "ax1.tick_params(labelsize=14)\n",
    "ax1.set_title('Review Counts Histogram', fontsize=14)\n",
    "ax1.set_xlabel('')\n",
    "ax1.set_ylabel('Occurrence', fontsize=14)\n",
    "\n",
    "# review count after log transform\n",
    "biz_df['rc_log'] = rc_log\n",
    "biz_df['rc_log'].hist(ax=ax2, bins=100)\n",
    "ax2.set_yscale('log')\n",
    "ax2.tick_params(labelsize=14)\n",
    "ax2.set_title('Log Transformed Counts Histogram', fontsize=14)\n",
    "ax2.set_xlabel('')\n",
    "ax2.set_ylabel('Occurrence', fontsize= 14)\n",
    "\n",
    "# review count after optimal Box-Cox transform\n",
    "biz_df['rc_bc'] = rc_bc\n",
    "biz_df['rc_bc'].hist(ax=ax3, bins=100)\n",
    "ax3.set_yscale('log')\n",
    "ax3.tick_params(labelsize=14)\n",
    "ax3.set_title('Box-Cox Transformed Counts Histogram', fontsize=14)\n",
    "ax3.set_xlabel('')\n",
    "ax3.set_ylabel('Occurrence', fontsize=14)\n",
    "\n",
    "\n",
    "plt.show()"
   ]
  },
  {
   "cell_type": "markdown",
   "metadata": {},
   "source": [
    "Probability plots of original and transformed counts against the normal\n",
    "distribution\n"
   ]
  },
  {
   "cell_type": "code",
   "execution_count": 44,
   "metadata": {
    "ExecuteTime": {
     "end_time": "2020-09-21T20:39:59.147815Z",
     "start_time": "2020-09-21T20:39:57.155095Z"
    }
   },
   "outputs": [
    {
     "data": {
      "image/png": "[encoded data removed]",
      "text/plain": [
       "<Figure size 432x288 with 3 Axes>"
      ]
     },
     "metadata": {
      "needs_background": "light"
     },
     "output_type": "display_data"
    }
   ],
   "source": [
    "fig2, (ax1, ax2, ax3) = plt.subplots(3,1)\n",
    "plt.tight_layout()\n",
    "\n",
    "prob1 = stats.probplot(biz_df['review_count'], dist=stats.norm, plot=ax1)\n",
    "ax1.set_xlabel('')\n",
    "ax1.set_title('Probplot against normal distribution')\n",
    "\n",
    "prob2 = stats.probplot(biz_df['rc_log'], dist=stats.norm, plot=ax2)\n",
    "ax2.set_xlabel('')\n",
    "ax2.set_title('Probplot after log transform')\n",
    "\n",
    "prob3 = stats.probplot(biz_df['rc_bc'], dist=stats.norm, plot=ax3)\n",
    "ax3.set_xlabel('Theoretical quantiles')\n",
    "ax3.set_title('Probplot after Box-Cox transform')\n",
    "\n",
    "plt.show()"
   ]
  }
 ],
 "metadata": {
  "kernelspec": {
   "display_name": "Python 3",
   "language": "python",
   "name": "python3"
  },
  "language_info": {
   "codemirror_mode": {
    "name": "ipython",
    "version": 3
   },
   "file_extension": ".py",
   "mimetype": "text/x-python",
   "name": "python",
   "nbconvert_exporter": "python",
   "pygments_lexer": "ipython3",
   "version": "3.7.4"
  }
 },
 "nbformat": 4,
 "nbformat_minor": 4
}
